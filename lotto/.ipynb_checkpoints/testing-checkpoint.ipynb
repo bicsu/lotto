{
 "cells": [
  {
   "cell_type": "code",
   "execution_count": 8,
   "id": "cc6d2755-efaa-40f6-a25a-ddb98158ec46",
   "metadata": {},
   "outputs": [
    {
     "name": "stdout",
     "output_type": "stream",
     "text": [
      "[9, 12, 6, 39, 24, 30]\n",
      "13.099618315050252 20\n",
      "[31, 7, 24, 11, 29, 27]\n",
      "10.03493896344168 21.5\n",
      "[20, 4, 19, 24, 40, 13]\n",
      "12.016655108639842 20\n",
      "[9, 36, 44, 24, 11, 25]\n",
      "13.673575489485794 24.833333333333332\n",
      "[8, 26, 1, 44, 22, 32]\n",
      "15.727894540168645 22.166666666666668\n",
      "[38, 10, 40, 13, 31, 2]\n",
      "16.03329868326124 22.333333333333332\n",
      "[37, 29, 42, 15, 4, 21]\n",
      "14.179797835888447 24.666666666666668\n",
      "[19, 28, 5, 23, 24, 32]\n",
      "9.368386556214825 21.833333333333332\n",
      "[13, 41, 34, 36, 15, 8]\n",
      "14.067693485429658 24.5\n",
      "[7, 43, 22, 13, 27, 10]\n",
      "13.411437904515186 20.333333333333332\n",
      "Next Saturday : 2022-01-22\n"
     ]
    }
   ],
   "source": [
    "import random\n",
    "from datetime import datetime\n",
    "from datetime import timedelta\n",
    "import statistics as stat\n",
    "\n",
    "result_num_list = []\n",
    "while len(result_num_list) <10 :\n",
    "    ran_list = random.sample(range(1,46),6)\n",
    "    if stat.mean(ran_list) >= 20 and stat.mean(ran_list) < 25 :\n",
    "        if stat.stdev(ran_list) >= 12 or stat.stdev(ran_list) < 16 :\n",
    "            result_num_list.append(ran_list)\n",
    "now = datetime.now()\n",
    "today = f'{now.year}-{now.month}-{now.day}'.format(now.year)\n",
    "d = datetime.today()    \n",
    "sat_offset = 5 - d.weekday()\n",
    "\n",
    "saturday = d + timedelta(days=sat_offset)    \n",
    "saturday = str(saturday)[:10]\n",
    "print(\"Next Saturday :\", saturday)"
   ]
  },
  {
   "cell_type": "code",
   "execution_count": 7,
   "id": "cbad9782-52f5-41ad-88d6-dc621a155487",
   "metadata": {},
   "outputs": [
    {
     "ename": "TypeError",
     "evalue": "stdev() missing 1 required positional argument: 'data'",
     "output_type": "error",
     "traceback": [
      "\u001b[0;31m---------------------------------------------------------------------------\u001b[0m",
      "\u001b[0;31mTypeError\u001b[0m                                 Traceback (most recent call last)",
      "\u001b[0;32m<ipython-input-7-f9a6444ad2a1>\u001b[0m in \u001b[0;36m<module>\u001b[0;34m\u001b[0m\n\u001b[0;32m----> 1\u001b[0;31m \u001b[0mstat\u001b[0m\u001b[0;34m.\u001b[0m\u001b[0mstdev\u001b[0m\u001b[0;34m(\u001b[0m\u001b[0;34m)\u001b[0m\u001b[0;34m\u001b[0m\u001b[0;34m\u001b[0m\u001b[0m\n\u001b[0m",
      "\u001b[0;31mTypeError\u001b[0m: stdev() missing 1 required positional argument: 'data'"
     ]
    }
   ],
   "source": [
    "()"
   ]
  },
  {
   "cell_type": "code",
   "execution_count": null,
   "id": "3187c749-1432-4e63-a92f-03b575702979",
   "metadata": {},
   "outputs": [],
   "source": []
  }
 ],
 "metadata": {
  "kernelspec": {
   "display_name": "Ken",
   "language": "python",
   "name": "ken"
  },
  "language_info": {
   "codemirror_mode": {
    "name": "ipython",
    "version": 3
   },
   "file_extension": ".py",
   "mimetype": "text/x-python",
   "name": "python",
   "nbconvert_exporter": "python",
   "pygments_lexer": "ipython3",
   "version": "3.6.12"
  }
 },
 "nbformat": 4,
 "nbformat_minor": 5
}
