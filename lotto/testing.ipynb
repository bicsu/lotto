{
 "cells": [
  {
   "cell_type": "code",
   "execution_count": 9,
   "id": "cc6d2755-efaa-40f6-a25a-ddb98158ec46",
   "metadata": {},
   "outputs": [
    {
     "name": "stdout",
     "output_type": "stream",
     "text": [
      "Next Saturday : 2022-01-22\n"
     ]
    }
   ],
   "source": [
    "import random\n",
    "from datetime import datetime\n",
    "from datetime import timedelta\n",
    "import statistics as stat\n",
    "\n",
    "result_num_list = []\n",
    "while len(result_num_list) <10 :\n",
    "    ran_list = random.sample(range(1,46),6)\n",
    "    if stat.mean(ran_list) >= 20 and stat.mean(ran_list) < 25 :\n",
    "        if stat.stdev(ran_list) >= 12 or stat.stdev(ran_list) < 16 :\n",
    "            result_num_list.append(ran_list)\n",
    "now = datetime.now()\n",
    "today = f'{now.year}-{now.month}-{now.day}'.format(now.year)\n",
    "d = datetime.today()    \n",
    "sat_offset = 5 - d.weekday()\n",
    "\n",
    "saturday = d + timedelta(days=sat_offset)    \n",
    "saturday = str(saturday)[:10]\n",
    "print(\"Next Saturday :\", saturday)"
   ]
  },
  {
   "cell_type": "code",
   "execution_count": null,
   "id": "3187c749-1432-4e63-a92f-03b575702979",
   "metadata": {},
   "outputs": [],
   "source": []
  }
 ],
 "metadata": {
  "kernelspec": {
   "display_name": "Ken",
   "language": "python",
   "name": "ken"
  },
  "language_info": {
   "codemirror_mode": {
    "name": "ipython",
    "version": 3
   },
   "file_extension": ".py",
   "mimetype": "text/x-python",
   "name": "python",
   "nbconvert_exporter": "python",
   "pygments_lexer": "ipython3",
   "version": "3.6.12"
  }
 },
 "nbformat": 4,
 "nbformat_minor": 5
}
